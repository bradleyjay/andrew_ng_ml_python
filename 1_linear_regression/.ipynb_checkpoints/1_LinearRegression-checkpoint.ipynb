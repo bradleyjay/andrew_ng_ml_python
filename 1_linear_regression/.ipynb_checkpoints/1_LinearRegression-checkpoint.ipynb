{
 "cells": [
  {
   "cell_type": "code",
   "execution_count": null,
   "metadata": {},
   "outputs": [],
   "source": [
    "'''\n",
    "\n",
    "Linear Regression, Andrew Ng - Python, Numpy Implimentation\n",
    "\n",
    "'''\n",
    "\n",
    "import numpy as np\n",
    "import matplotlib.pyplot as plt\n",
    "%matplotlib inline # juypter notebook syntax\n",
    "\n",
    "# read in dataset\n",
    "\n",
    "np.seterr(divide='ignore', invalid='ignore')\n",
    "data = np.genfromtxt('./ex1data1.txt', delimiter=',')\n",
    "\n",
    "x = data[:,0]\n",
    "y = data[:,1]\n",
    "m = len(y)\n",
    "\n",
    "# plot raw data\n",
    "\n",
    "fig, ax = plt.subplots(figsize=(12,8))\n",
    "ax.scatter(x,y, marker = 'x', c='r')\n",
    "ax.set_title('Food Truck - Estimated Revenue per City')\n",
    "ax.set_xlabel('Population of City (10,000s)')\n",
    "ax.set_ylabel('Profit ($10,000s)')\n",
    "\n",
    "#plt.show() # wouldn't need in Juypter Notebook\n",
    "\n",
    "# prepare matricies for parameters (theta) and X (features)\n",
    "\n",
    "X = np.matrix([])\n",
    "col1 = np.ones((m,1))\n"
   ]
  }
 ],
 "metadata": {
  "kernelspec": {
   "display_name": "Python 3",
   "language": "python",
   "name": "python3"
  },
  "language_info": {
   "codemirror_mode": {
    "name": "ipython",
    "version": 3
   },
   "file_extension": ".py",
   "mimetype": "text/x-python",
   "name": "python",
   "nbconvert_exporter": "python",
   "pygments_lexer": "ipython3",
   "version": "3.7.0"
  }
 },
 "nbformat": 4,
 "nbformat_minor": 2
}
